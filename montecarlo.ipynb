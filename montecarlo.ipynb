{
 "cells": [
  {
   "cell_type": "code",
   "execution_count": null,
   "id": "f4f1ba55",
   "metadata": {},
   "outputs": [],
   "source": [
    "!pip install numpy matplotlib"
   ]
  },
  {
   "cell_type": "code",
   "execution_count": 48,
   "id": "6b6868d8",
   "metadata": {},
   "outputs": [],
   "source": [
    "import math\n",
    "import numpy as np\n",
    "import matplotlib.pyplot as plt\n",
    "from matplotlib.animation import FuncAnimation\n",
    "from IPython.display import HTML"
   ]
  },
  {
   "cell_type": "code",
   "execution_count": 60,
   "id": "8a3897c4",
   "metadata": {},
   "outputs": [],
   "source": [
    "# inserisci la funzione di input\n",
    "\n",
    "func_str = input(\"Inserisci la funzione in x (es: x**2 + 3): \")\n",
    "\n",
    "\n",
    "def f(x):\n",
    "    try:\n",
    "        return eval(func_str, {\"x\": x, \"math\": math, \"__builtins__\": {}})\n",
    "    except Exception as e:\n",
    "        print(f\"Errore nell'esecuzione della funzione: {e}\")\n",
    "        return 0\n"
   ]
  },
  {
   "cell_type": "code",
   "execution_count": 66,
   "id": "260298d1",
   "metadata": {},
   "outputs": [],
   "source": [
    "# inserisci l'intervallo della funzione e il numero di punti casuali da generare\n",
    "\n",
    "try:\n",
    "    a = float(input(\"Estremo inferiore dell'intervallo: \"))\n",
    "    b = float(input(\"Estremo superiore dell'intervallo: \"))\n",
    "    n_punti = int(input(\"Numero di punti casuali da generare: \"))\n",
    "except ValueError:\n",
    "    print(\"Errore: inserisci numeri validi.\")\n",
    "\n",
    "if a >= b or n_punti <= 0:\n",
    "    print(\"Errore: intervallo o numero di punti non valido.\")\n",
    "        "
   ]
  },
  {
   "cell_type": "code",
   "execution_count": 67,
   "id": "5a8ab62a",
   "metadata": {},
   "outputs": [],
   "source": [
    "# trova il massimo della funzione\n",
    "x_density = np.linspace(a, b, 10000) # calcoliamo 1000 valori equidistanti sulle x\n",
    "y_density = [f(x) for x in x_density]\n",
    "\n",
    "y_min = min(0, min(y_density))  # incluso lo 0 per gestire funzioni negative\n",
    "y_max = max(0, max(y_density))"
   ]
  },
  {
   "cell_type": "code",
   "execution_count": 68,
   "id": "2ae0782c",
   "metadata": {},
   "outputs": [],
   "source": [
    "# montecarlo\n",
    "count_under = 0\n",
    "\n",
    "# array di salvataggio dei punti\n",
    "x_under, y_under = [], []\n",
    "x_over, y_over = [], []\n",
    "\n",
    "for _ in range(n_punti):\n",
    "    x_rand = a + (b - a) * np.random.random()\n",
    "    y_rand = y_min + (y_max - y_min) * np.random.random()\n",
    "    y_func = f(x_rand)\n",
    "\n",
    "    if (y_rand >= 0 and y_rand <= y_func) or (y_rand < 0 and y_rand >= y_func):\n",
    "        count_under += 1\n",
    "        x_under.append(x_rand)\n",
    "        y_under.append(y_rand)\n",
    "    else:\n",
    "        x_over.append(x_rand)\n",
    "        y_over.append(y_rand)"
   ]
  },
  {
   "cell_type": "code",
   "execution_count": 69,
   "id": "fb879c02",
   "metadata": {},
   "outputs": [
    {
     "name": "stdout",
     "output_type": "stream",
     "text": [
      "\n",
      "Stima dell'integrale geometrico di math.sin(x) da 0.0 a 3.14 con 1000000 punti: 2.000883\n"
     ]
    }
   ],
   "source": [
    "# risultato area\n",
    "area_rect = (b - a) * (y_max - y_min)\n",
    "integral = area_rect * (count_under / n_punti)\n",
    "\n",
    "print(f\"\\nStima dell'integrale geometrico di {func_str} da {a} a {b} con {n_punti} punti: {integral:.6f}\")"
   ]
  },
  {
   "cell_type": "code",
   "execution_count": null,
   "id": "d01f3cf0",
   "metadata": {},
   "outputs": [],
   "source": [
    "plt.figure(figsize=(10, 6))\n",
    "plt.plot(x_density, y_density, label=\"Funzione\", color=\"blue\")\n",
    "plt.axhline(0, color=\"black\", linewidth=0.5)\n",
    "plt.scatter(x_under, y_under, color=\"green\", s=10, alpha=0.5, label=\"Punti sotto la curva\")\n",
    "plt.scatter(x_over, y_over, color=\"red\", s=10, alpha=0.5, label=\"Punti sopra la curva\")\n",
    "plt.title(\"Montecarlo Geometrico\")\n",
    "plt.xlabel(\"x\")\n",
    "plt.ylabel(\"y\")\n",
    "plt.legend()\n",
    "plt.grid(True)\n",
    "plt.show()"
   ]
  }
 ],
 "metadata": {
  "kernelspec": {
   "display_name": ".venv",
   "language": "python",
   "name": "python3"
  },
  "language_info": {
   "codemirror_mode": {
    "name": "ipython",
    "version": 3
   },
   "file_extension": ".py",
   "mimetype": "text/x-python",
   "name": "python",
   "nbconvert_exporter": "python",
   "pygments_lexer": "ipython3",
   "version": "3.13.3"
  }
 },
 "nbformat": 4,
 "nbformat_minor": 5
}
